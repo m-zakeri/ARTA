{
 "cells": [
  {
   "cell_type": "code",
   "execution_count": null,
   "metadata": {
    "colab": {
     "base_uri": "https://localhost:8080/",
     "height": 303
    },
    "colab_type": "code",
    "executionInfo": {
     "elapsed": 33694,
     "status": "ok",
     "timestamp": 1593613359867,
     "user": {
      "displayName": "Saeid Masir",
      "photoUrl": "https://lh3.googleusercontent.com/a-/AOh14GjPAAuY37EJoBVKlVDRiCx3OmWa7n4MRX_qgUZ2rw=s64",
      "userId": "01367108648350542700"
     },
     "user_tz": -270
    },
    "id": "0OP-4zUA3xxu",
    "outputId": "9f1fd83b-a9f2-4eb8-b241-29429e60947c"
   },
   "outputs": [
    {
     "name": "stdout",
     "output_type": "stream",
     "text": [
      "Go to this URL in a browser: https://accounts.google.com/o/oauth2/auth?client_id=947318989803-6bn6qk8qdgf4n4g3pfee6491hc0brc4i.apps.googleusercontent.com&redirect_uri=urn%3aietf%3awg%3aoauth%3a2.0%3aoob&response_type=code&scope=email%20https%3a%2f%2fwww.googleapis.com%2fauth%2fdocs.test%20https%3a%2f%2fwww.googleapis.com%2fauth%2fdrive%20https%3a%2f%2fwww.googleapis.com%2fauth%2fdrive.photos.readonly%20https%3a%2f%2fwww.googleapis.com%2fauth%2fpeopleapi.readonly\n",
      "\n",
      "Enter your authorization code:\n",
      "··········\n",
      "Mounted at /content/drive\n",
      "[nltk_data] Downloading package stopwords to /root/nltk_data...\n",
      "[nltk_data]   Unzipping corpora/stopwords.zip.\n",
      "[nltk_data] Downloading package punkt to /root/nltk_data...\n",
      "[nltk_data]   Unzipping tokenizers/punkt.zip.\n",
      "[nltk_data] Downloading package wordnet to /root/nltk_data...\n",
      "[nltk_data]   Unzipping corpora/wordnet.zip.\n",
      "[nltk_data] Downloading package averaged_perceptron_tagger to\n",
      "[nltk_data]     /root/nltk_data...\n",
      "[nltk_data]   Unzipping taggers/averaged_perceptron_tagger.zip.\n"
     ]
    },
    {
     "data": {
      "text/plain": [
       "True"
      ]
     },
     "execution_count": 1,
     "metadata": {
      "tags": []
     },
     "output_type": "execute_result"
    }
   ],
   "source": [
    "#----------import APIs and download requairment packages\n",
    "import os \n",
    "import nltk\n",
    "\n",
    "#---connect to My Drive\n",
    "from google.colab import drive\n",
    "drive.mount('/content/drive')\n",
    "\n",
    "from nltk.stem import WordNetLemmatizer \n",
    "lem = WordNetLemmatizer()\n",
    "\n",
    "from nltk.corpus import stopwords\n",
    "from nltk.tokenize import word_tokenize\n",
    "\n",
    "from copy import deepcopy as dc\n",
    "\n",
    "import pickle #dump \n",
    "\n",
    "nltk.download('stopwords')\n",
    "all_stopwords = stopwords.words('english')\n",
    "for n in ['===','====','...','one','e.g','two','three','four','five','six','seven','eight','nine','ten','e.g.']:  #'|','=','&',  '{','}','[',']','>','<','?','!','$','%','#',\"'\",'--',')','(',\"''\",'``',':',';',\"'s\",'10','6','7','8','9','5','4','3','0','1','2','j.','c.','m.','a.','\\\\','^','x','h','q','l','w','g','c','n','f','r','k','p','j','e','b','u','v','le','de',',','.','==',,'+','–','-','—','−','_'\n",
    "  all_stopwords.append(n)\n",
    "\n",
    "nltk.download('punkt')\n",
    "nltk.download('wordnet')\n",
    "nltk.download('averaged_perceptron_tagger')"
   ]
  },
  {
   "cell_type": "code",
   "execution_count": null,
   "metadata": {
    "colab": {},
    "colab_type": "code",
    "id": "vUGKVBY24QAl"
   },
   "outputs": [],
   "source": []
  },
  {
   "cell_type": "code",
   "execution_count": null,
   "metadata": {},
   "outputs": [],
   "source": [
    "#-------perprocessing documents\n",
    "lemmed=[]\n",
    "finalResult=[]\n",
    "counter=0\n",
    "#-----for each document\n",
    "for i in range(10000):\n",
    "  try:\n",
    "    lemmed.clear()\n",
    "    O_doc = open(`Data/pagesContent/At/\"+str(i+1)+\".txt\" , \"r\", encoding='utf-8')    \n",
    "#-----convert to lower case \n",
    "    Lines_doc =O_doc.read().lower()\n",
    "    O_doc.close()\n",
    "#-----tokenize document\n",
    "    tokens= word_tokenize(Lines_doc)\n",
    "    #print(tokens)\n",
    "#-----remove stopwords\n",
    "    tokens_without_sw = [word for word in tokens if not word in all_stopwords]\n",
    "    #print(tokens_without_sw)\n",
    "#-----lemmatize words\n",
    "    for j in tokens_without_sw:\n",
    "      l=lem.lemmatize(j)\n",
    "      if (len(l)>2):\n",
    "        lemmed.append(l)\n",
    "    #print(lemmed)\n",
    "    finalResult.insert(i,dc(lemmed))\n",
    "# ----------------create sentences with tokens again.\n",
    "    #string = (\" \").join(lemmed) \n",
    "    #with open(\"/content/drive/My Drive/Colab Notebooks/req/perSport/\"+str(i)+\".txt\", 'w' , encoding='utf-8') as f:\n",
    "      #f.writelines(string)\n",
    "    #print(string)\n",
    "    print(i)\n",
    "  except:\n",
    "    pass\n",
    "#print(finalResult)"
   ]
  },
  {
   "cell_type": "code",
   "execution_count": null,
   "metadata": {
    "colab": {},
    "colab_type": "code",
    "id": "3paNHtbt8A07"
   },
   "outputs": [],
   "source": [
    "#------save list of list by pickle \n",
    "pickle.dump(finalResult, open(\"/content/drive/My Drive/Colab Notebooks/SE-Req/Data/List of lists/CSaa.p\",\"wb\"))"
   ]
  },
  {
   "cell_type": "code",
   "execution_count": null,
   "metadata": {
    "colab": {
     "base_uri": "https://localhost:8080/",
     "height": 34
    },
    "colab_type": "code",
    "executionInfo": {
     "elapsed": 6696,
     "status": "ok",
     "timestamp": 1593021822765,
     "user": {
      "displayName": "Saeid Masir",
      "photoUrl": "https://lh3.googleusercontent.com/a-/AOh14GjPAAuY37EJoBVKlVDRiCx3OmWa7n4MRX_qgUZ2rw=s64",
      "userId": "01367108648350542700"
     },
     "user_tz": -270
    },
    "id": "pS_UN7lFAdeD",
    "outputId": "8a3af2f3-80fd-47d5-f39c-1cba8fde328a"
   },
   "outputs": [
    {
     "data": {
      "text/plain": [
       "9541"
      ]
     },
     "execution_count": 39,
     "metadata": {
      "tags": []
     },
     "output_type": "execute_result"
    }
   ],
   "source": [
    "#----- a code for opening a file from pickle format\n",
    "list1 = pickle.load( open( \"/content/drive/My Drive/Colab Notebooks/SE-Req/Data/List of lists/CS.p\", \"rb\" ) )\n",
    "len(list1)\n"
   ]
  },
  {
   "cell_type": "code",
   "execution_count": null,
   "metadata": {
    "colab": {
     "base_uri": "https://localhost:8080/",
     "height": 34
    },
    "colab_type": "code",
    "executionInfo": {
     "elapsed": 10752,
     "status": "ok",
     "timestamp": 1593021839143,
     "user": {
      "displayName": "Saeid Masir",
      "photoUrl": "https://lh3.googleusercontent.com/a-/AOh14GjPAAuY37EJoBVKlVDRiCx3OmWa7n4MRX_qgUZ2rw=s64",
      "userId": "01367108648350542700"
     },
     "user_tz": -270
    },
    "id": "9XiXH0uye00c",
    "outputId": "b94553ae-466d-468a-83a9-08cb2ff89a15"
   },
   "outputs": [
    {
     "data": {
      "text/plain": [
       "13575325"
      ]
     },
     "execution_count": 40,
     "metadata": {
      "tags": []
     },
     "output_type": "execute_result"
    }
   ],
   "source": [
    "#------- list of list[[]] --> list[]\n",
    "allDocs=[]\n",
    "\n",
    "for  i in range(len(list1)):\n",
    "  for j in list1[i]:\n",
    "   allDocs.append(dc(j))\n",
    "len(allDocs)\n"
   ]
  },
  {
   "cell_type": "code",
   "execution_count": null,
   "metadata": {
    "colab": {
     "base_uri": "https://localhost:8080/",
     "height": 54
    },
    "colab_type": "code",
    "executionInfo": {
     "elapsed": 4919,
     "status": "ok",
     "timestamp": 1593022132699,
     "user": {
      "displayName": "Saeid Masir",
      "photoUrl": "https://lh3.googleusercontent.com/a-/AOh14GjPAAuY37EJoBVKlVDRiCx3OmWa7n4MRX_qgUZ2rw=s64",
      "userId": "01367108648350542700"
     },
     "user_tz": -270
    },
    "id": "fJinqD7OFrAW",
    "outputId": "78021cc4-7841-4498-a44c-c4d1a860c573"
   },
   "outputs": [
    {
     "name": "stdout",
     "output_type": "stream",
     "text": [
      "[('computer', 122085), ('system', 82906), ('science', 79461), ('also', 61717), ('university', 59859), ('data', 57104), ('language', 54600), ('used', 52441), ('program', 49044), ('first', 45403), ('may', 38196), ('software', 37174), ('information', 35738), ('time', 35480), ('engineering', 35282), ('programming', 34626), ('use', 33409), ('study', 33280), ('function', 32861), ('number', 32564), ('state', 32441), ('type', 32093), ('example', 31875), ('research', 31280), ('new', 30358), ('machine', 29491), ('many', 29063), ('technology', 28996), ('problem', 28371), ('theory', 27416), ('\\\\displaystyle', 27012), ('algorithm', 26906), ('degree', 26124), ('student', 25651), ('set', 25252), ('computing', 24827), ('process', 24739), ('design', 24648), ('using', 24427), ('year', 24149), ('memory', 24000), ('value', 23674), ('method', 23651), ('application', 23446), ('code', 23436), ('school', 23320), ('model', 23259), ('field', 23025), ('network', 22481), ('called', 22023), ('object', 21458), ('work', 21421), ('development', 20602), ('often', 19720), ('would', 19619), ('term', 19519), ('different', 19113), ('known', 18773), ('list', 18526), ('user', 18263), ('class', 18189), ('world', 18181), ('operation', 17527), ('reference', 17304), ('structure', 17006), ('variable', 16807), ('history', 16781), ('case', 16471), ('part', 16461), ('including', 16228), ('device', 16176), ('form', 16117), ('human', 16021), ('include', 15908), ('education', 15874), ('based', 15829), ('american', 15680), ('college', 15678), ('social', 15368), ('however', 15365), ('since', 15317), ('instruction', 15257), ('mathematics', 15028), ('group', 14925), ('see', 14785), ('learning', 14510), ('name', 14431), ('analysis', 14327), ('could', 14311), ('woman', 14249), ('national', 14071), ('support', 13888), ('area', 13856), ('like', 13791), ('institute', 13740), ('well', 13641), ('way', 13638), ('early', 13633), ('level', 13539), ('element', 13091), ('common', 13086), ('service', 13029), ('result', 13021), ('control', 13013), ('general', 12959), ('file', 12945), ('mathematical', 12919), ('developed', 12769), ('logic', 12748), ('space', 12530), ('architecture', 12524), ('management', 12521), ('another', 12443), ('international', 12434), ('standard', 12419), ('member', 12373), ('within', 12349), ('order', 12300), ('project', 12292), ('united', 12251), ('several', 12090), ('later', 12010), ('access', 12007), ('made', 11917), ('digital', 11811), ('computational', 11722), ('scientific', 11658), ('make', 11626), ('master', 11512), ('implementation', 11501), ('computation', 11434), ('link', 11348), ('department', 11269), ('point', 11247), ('given', 11215), ('modern', 11118), ('company', 11076), ('concept', 11074), ('business', 11028), ('library', 10997), ('operating', 10967), ('usually', 10936), ('bachelor', 10916), ('communication', 10873), ('law', 10862), ('high', 10524), ('even', 10517), ('people', 10506), ('hardware', 10342), ('version', 10288), ('following', 10268), ('resource', 10223), ('became', 10192), ('possible', 10188), ('public', 10181), ('professor', 10138), ('input', 10135), ('journal', 10121), ('large', 10107), ('intelligence', 10081), ('need', 10057), ('game', 10003), ('academic', 9983), ('course', 9972), ('node', 9969), ('feature', 9911), ('source', 9880), ('interface', 9810), ('must', 9799), ('various', 9745), ('john', 9695), ('processing', 9684), ('change', 9684), ('word', 9644), ('array', 9625), ('art', 9590), ('tree', 9433), ('power', 9387), ('applied', 9338), ('ibm', 9337), ('unit', 9292), ('natural', 9282), ('task', 9183), ('approach', 9181), ('without', 9175), ('external', 9148), ('single', 9121), ('storage', 9047), ('knowledge', 9029), ('society', 9027), ('mean', 9026), ('typically', 8985), ('available', 8934), ('technique', 8872), ('take', 8814), ('formal', 8777), ('security', 8776), ('character', 8716), ('web', 8710), ('film', 8682), ('defined', 8675), ('component', 8648), ('center', 8643), ('engineer', 8616), ('paper', 8598), ('multiple', 8586), ('book', 8574), ('second', 8563), ('environment', 8556), ('although', 8555), ('isbn', 8544), ('similar', 8533), ('organization', 8526), ('award', 8500), ('key', 8494), ('provide', 8474), ('scientist', 8446), ('considered', 8435), ('designed', 8431), ('definition', 8404), ('medium', 8387), ('internet', 8375), ('much', 8334), ('image', 8303), ('open', 8210), ('main', 8188), ('life', 8166), ('campus', 8157), ('found', 8137), ('artificial', 8134), ('string', 8119), ('property', 8085), ('database', 8083), ('specific', 8082), ('processor', 8020), ('conference', 8002), ('related', 7995), ('particular', 7994), ('century', 7967), ('physical', 7959), ('address', 7936), ('message', 7863), ('performance', 7854), ('sequence', 7839), ('solution', 7827), ('building', 7804), ('compiler', 7773), ('series', 7752), ('run', 7718), ('discipline', 7707), ('major', 7705), ('complex', 7702), ('basic', 7688), ('search', 7649), ('rule', 7648), ('written', 7630), ('circuit', 7625), ('expression', 7614), ('individual', 7566), ('among', 7557), ('product', 7542), ('output', 7540), ('line', 7512), ('effect', 7510), ('government', 7488), ('thus', 7485), ('electronic', 7460), ('pattern', 7460), ('quantum', 7401), ('faculty', 7380), ('graphic', 7373), ('city', 7358), ('size', 7351), ('professional', 7349), ('physic', 7270), ('call', 7268), ('president', 7236), ('important', 7179), ('tool', 7176), ('generally', 7150), ('country', 7119), ('either', 7112), ('online', 7105), ('every', 7055), ('complexity', 7050), ('theoretical', 7048), ('end', 7039), ('test', 7035), ('turing', 7025), ('programmer', 7016), ('created', 6992), ('higher', 6973), ('due', 6955), ('million', 6952), ('published', 6946), ('binary', 6944), ('table', 6929), ('required', 6904), ('u.s.', 6897), ('still', 6872), ('bit', 6851), ('original', 6836), ('branch', 6806), ('collection', 6781), ('practice', 6770), ('working', 6748), ('former', 6743), ('rather', 6741), ('according', 6728), ('philosophy', 6647), ('right', 6637), ('instead', 6625), ('issue', 6595), ('instance', 6593), ('others', 6590), ('event', 6553), ('small', 6515), ('distributed', 6499), ('current', 6493), ('window', 6487), ('offer', 6466), ('idea', 6413), ('become', 6401), ('pointer', 6401), ('association', 6393), ('error', 6390), ('war', 6390), ('text', 6385), ('foundation', 6342), ('team', 6325), ('graduate', 6266), ('sometimes', 6266), ('protocol', 6231), ('allow', 6215), ('page', 6169), ('special', 6162), ('includes', 6158), ('record', 6136), ('allows', 6085), ('free', 6077), ('addition', 6058), ('researcher', 6056), ('introduced', 6051), ('graph', 6022), ('york', 6003), ('simple', 5999), ('mechanical', 5972), ('built', 5972), ('perform', 5970), ('integrated', 5964), ('abstract', 5958), ('range', 5924), ('dynamic', 5911), ('block', 5908), ('action', 5905), ('around', 5893), ('medical', 5885), ('place', 5883), ('engine', 5867), ('best', 5846), ('return', 5844), ('principle', 5839), ('certain', 5834), ('focus', 5803), ('ontology', 5798), ('cpu', 5796), ('role', 5778), ('algebra', 5768), ('child', 5766), ('making', 5751), ('server', 5743), ('statement', 5739), ('community', 5702), ('domain', 5691), ('local', 5689), ('note', 5683), ('location', 5679), ('technical', 5677), ('global', 5635), ('behavior', 5635), ('health', 5634), ('java', 5631), ('provides', 5629), ('create', 5611), ('store', 5606), ('author', 5599), ('representation', 5582), ('began', 5581), ('personal', 5559), ('subject', 5534), ('interaction', 5532), ('video', 5510), ('transistor', 5497), ('article', 5492), ('described', 5491), ('born', 5485), ('integer', 5476), ('report', 5467), ('help', 5457), ('parameter', 5444), ('next', 5443), ('industry', 5442), ('institution', 5434), ('stored', 5412), ('complete', 5370), ('purpose', 5352), ('david', 5327), ('position', 5313), ('material', 5293), ('context', 5281), ('british', 5273), ('boolean', 5267), ('meaning', 5259), ('day', 5256), ('family', 5247), ('parallel', 5234), ('activity', 5228), ('abstraction', 5220), ('included', 5212), ('led', 5197), ('electrical', 5184), ('home', 5170), ('might', 5169), ('long', 5165), ('argument', 5165), ('relationship', 5139), ('prize', 5130), ('board', 5126), ('cost', 5122), ('established', 5113), ('per', 5111), ('commonly', 5109), ('whether', 5108), ('show', 5107), ('condition', 5105), ('via', 5101), ('body', 5070), ('named', 5069), ('press', 5063), ('google', 5054), ('content', 5050), ('operator', 5048), ('acm', 4998), ('training', 4995), ('symbol', 4992), ('functional', 4963), ('question', 4940), ('provided', 4938), ('released', 4926), ('though', 4925), ('said', 4920), ('read', 4886), ('least', 4872), ('step', 4864), ('index', 4863), ('decision', 4862), ('significant', 4860), ('act', 4857), ('goal', 4854), ('implemented', 4853), ('format', 4836), ('description', 4832), ('scope', 4827), ('real', 4825), ('rate', 4819), ('english', 4784), ('virtual', 4773), ('force', 4768), ('testing', 4767), ('together', 4754), ('true', 4742), ('module', 4740), ('undergraduate', 4738), ('execution', 4722), ('able', 4720), ('command', 4718), ('produce', 4715), ('laboratory', 4711), ('requires', 4675), ('cause', 4672), ('relation', 4641), ('doctor', 4640), ('director', 4636), ('back', 4624), ('person', 4619), ('signal', 4618), ('directly', 4614), ('late', 4611), ('nature', 4608), ('procedure', 4600), ('stack', 4585), ('give', 4576), ('therefore', 4565), ('india', 4560), ('central', 4545), ('require', 4534), ('political', 4520), ('amount', 4516), ('ability', 4511), ('requirement', 4495), ('card', 4485), ('find', 4482), ('policy', 4474), ('job', 4467), ('mark', 4460), ('south', 4458), ('period', 4452), ('hash', 4451), ('base', 4449), ('associated', 4434), ('academy', 4430), ('medicine', 4427), ('factor', 4409), ('microsoft', 4408), ('robert', 4399), ('popular', 4396), ('top', 4396), ('biology', 4394), ('along', 4394), ('received', 4382), ('increase', 4368), ('done', 4366), ('c++', 4352), ('limited', 4343), ('additional', 4343), ('market', 4341), ('view', 4339), ('kind', 4319), ('fundamental', 4316), ('aspect', 4304), ('referred', 4295), ('awarded', 4289), ('register', 4285), ('framework', 4280), ('last', 4275), ('advanced', 4267), ('specification', 4262), ('especially', 4260), ('publication', 4258), ('interest', 4252), ('wide', 4249), ('simulation', 4249), ('needed', 4216), ('separate', 4212), ('lead', 4211), ('north', 4201), ('proposed', 4185), ('core', 4185), ('office', 4178), ('apple', 4169), ('mathematician', 4166), ('indian', 4164), ('equivalent', 4156), ('music', 4156), ('fact', 4153), ('reading', 4151), ('mechanism', 4149), ('equation', 4144), ('platform', 4140), ('section', 4135), ('statistic', 4133), ('hall', 4132), ('2011', 4127), ('logical', 4114), ('difference', 4112), ('disk', 4097), ('chemistry', 4096), ('left', 4092), ('total', 4091), ('division', 4077), ('2008', 4066), ('age', 4063), ('across', 4042), ('object-oriented', 4042), ('january', 4030), ('practical', 4023), ('running', 4020), ('2010', 4017), ('june', 4005), ('always', 4002), ('linear', 3992), ('paradigm', 3990), ('lab', 3989), ('represent', 3984), ('contains', 3978), ('semantics', 3973), ('website', 3973), ('layer', 3971), ('2012', 3954), ('economics', 3947), ('variety', 3933), ('simply', 3926), ('house', 3925), ('april', 3922), ('good', 3921), ('speed', 3915), (\"n't\", 3913), ('2015', 3906), ('educational', 3893), ('chip', 3890), ('present', 3887), ('private', 3884), ('2014', 3880), ('quality', 3874), ('player', 3870), ('2016', 3863), ('cell', 3861), ('review', 3854), ('kernel', 3852), ('2013', 3849), ('march', 3849), ('experience', 3841), ('ieee', 3837), ('understanding', 3829), ('whose', 3822), ('future', 3815), ('thread', 3814), ('flow', 3809), ('etc', 3801), ('vector', 3788), ('production', 3778), ('effort', 3774), ('document', 3774), ('founded', 3765), ('useful', 3762), ('october', 3761), ('full', 3760), ('european', 3755), ('mit', 3750), ('centre', 3744), ('upon', 3744), ('third', 3742), ('union', 3738), ('2007', 3736), ('mobile', 3730), ('september', 3729), ('finite', 3721), ('energy', 3721), ('william', 3717), ('site', 3715), ('drive', 3715), ('basis', 3698), ('cognitive', 3696), ('python', 3689), ('facility', 3678), ('region', 3678), ('lisp', 3672), ('military', 3667), ('thing', 3666), ('display', 3665), ('arithmetic', 3662), ('independent', 3657), ('started', 3653), ('implement', 3650), ('construction', 3633), ('2009', 3632), ('official', 3630), ('length', 3629), ('response', 3627), ('widely', 3622), ('2006', 3617), ('psychology', 3607), ('represented', 3605), ('contain', 3601), ('efficient', 3598), ('constant', 3598), ('syntax', 3595), ('calculation', 3591), ('traditional', 3577), ('map', 3575), ('build', 3569), ('2017', 3569), ('reason', 3556), ('industrial', 3555), ('visual', 3549), ('move', 3548), ('gate', 3547), ('leading', 3541), ('leader', 3538), ('german', 3531), ('attack', 3526), ('category', 3523), ('seen', 3516), ('come', 3512), ('writing', 3511), ('earth', 3509), ('difficult', 3506), ('attempt', 3501), ('develop', 3496), ('held', 3494), ('2018', 3494), ('topic', 3493), ('extension', 3487), ('alternative', 3482), ('client', 3482), ('california', 3481), ('developer', 3480), ('modeling', 3479), ('water', 3479), ('initial', 3477), ('august', 3472), ('final', 3465), ('allowed', 3459), ('population', 3441), ('primary', 3439), ('release', 3433), ('november', 3428), ('commercial', 3427), ('share', 3426), ('added', 3419), ('2005', 3418), ('failure', 3415), ('stanford', 3409), ('vision', 3404), ('title', 3404), ('produced', 3388), ('add', 3385), ('side', 3381), ('invented', 3380), ('start', 3380), ('today', 3366), ('internal', 3366), ('peter', 3363), ('distribution', 3362), ('style', 3361), ('get', 3353), ('court', 3345), ('scheme', 3344), ('macro', 3334), ('2019', 3325), ('proof', 3321), ('refers', 3319), ('acid', 3310), ('byte', 3303), ('theorem', 3300), ('automaton', 3297), ('phase', 3295), ('entity', 3294), ('deal', 3292), ('item', 3289), ('july', 3284), ('better', 3283), ('write', 3283), ('recognition', 3280), ('intended', 3276), ('female', 3276), ('zero', 3275), ('short', 3274), ('council', 3274), ('solve', 3269), ('specialized', 3237), ('december', 3233), ('followed', 3232), ('february', 3228), ('george', 3213), ('environmental', 3209), ('consists', 3207), ('sense', 3207), ('matrix', 3207), ('announced', 3201), ('random', 3200), ('light', 3198), ('robot', 3198), ('networking', 3187), ('numerical', 3177), ('almost', 3172), ('great', 3170), ('low', 3170), ('statistical', 3167), ('performed', 3154), ('surface', 3152), ('usage', 3146), ('french', 3145), ('optimization', 3145), ('volume', 3145), ('outside', 3144), ('taken', 3140), ('located', 3138), ('offered', 3137), ('measure', 3135), ('recursive', 3134), ('particularly', 3126), ('depending', 3125), ('teaching', 3125), ('involved', 3123), ('cloud', 3114), ('largest', 3112), ('thought', 3109), ('james', 3107), ('plan', 3106), ('hand', 3104), ('founder', 3104), ('root', 3089), ('connected', 3086), ('assembly', 3083), ('chemical', 3082), ('phd', 3082), ('career', 3080), ('charles', 3079), ('letter', 3079), ('connection', 3077), ('lower', 3069), ('economic', 3067), ('introduction', 3065), ('probability', 3064), ('involves', 3060), ('air', 3053), ('potential', 3039), ('generation', 3037), ('cycle', 3035), ('average', 3032), ('equal', 3030), ('accepted', 3027), ('originally', 3021), ('hold', 3016), ('cambridge', 3015), ('wrote', 3013), ('administration', 3013), ('geometry', 3012), ('never', 3012), ('solving', 3008), ('agent', 3008), ('recursion', 3007), ('mind', 3001), ('contrast', 3000), ('2004', 2998), ('scale', 2997), ('neural', 2992), ('notable', 2990), ('unix', 2986), ('animal', 2981), ('larger', 2979), ('biological', 2977), ('direct', 2977), ('2000', 2966), ('chief', 2966), ('mode', 2962), ('story', 2961), ('necessary', 2960), ('stage', 2952), ('ranking', 2952), ('men', 2942), ('path', 2933), ('movement', 2933), ('america', 2933), ('expert', 2923), ('greater', 2915), ('transaction', 2910), ('edge', 2910), ('exist', 2907), ('head', 2903), ('currently', 2900), ('providing', 2899), ('entire', 2889), ('log', 2887), ('brain', 2886), ('analog', 2881), ('richard', 2876), ('monitor', 2870), ('target', 2867), ('fixed', 2865), ('shared', 2863), ('coding', 2861), ('notation', 2859), ('shown', 2854), ('play', 2851), ('linux', 2850), ('define', 2849), ('fellow', 2849), ('recent', 2846), ('canada', 2846), ('critical', 2842), ('actor', 2842), ('distance', 2841), ('capability', 2837), ('existing', 2828), ('planning', 2827), ('europe', 2824), ('2001', 2819), ('\\\\frac', 2817), ('michael', 2815), ('worked', 2812), ('ph.d.', 2811), ('television', 2809), ('corporation', 2806), ('translation', 2803), ('1970s', 2801), ('combination', 2799), ('eventually', 2795), ('creation', 2795), ('von', 2795), ('culture', 2795), ('hard', 2793), ('cryptography', 2789), ('strong', 2788), ('previous', 2782), ('civil', 2775), ('creating', 2769), ('2003', 2765), ('entry', 2764), ('integration', 2763), ('allowing', 2752), ('smaller', 2749), ('impact', 2746), ('writer', 2744), ('choice', 2742), ('electronics', 2740), ('black', 2736), ('risk', 2736), ('discrete', 2735), ('advantage', 2734), ('i.e', 2732), ('lodge', 2724), ('cluster', 2723), ('understand', 2721), ('copy', 2719), ('food', 2717), ('skill', 2715), ('challenge', 2713), ('already', 2711), ('came', 2709), ('secondary', 2708), ('illinois', 2708), ('loop', 2707), ('detail', 2703), ('intel', 2698), ('regular', 2694), ('identifier', 2694), ('supported', 2691), ('channel', 2675), ('100', 2673), ('committee', 2672), ('developing', 2669), ('old', 2668), ('carnegie', 2664), ('teacher', 2663), ('army', 2653), ('comparison', 2651), ('starting', 2640), ('concern', 2639), ('completed', 2637), ('strategy', 2636), ('radio', 2634), ('evaluation', 2633), ('financial', 2631), ('garbage', 2624), ('parent', 2617), ('matter', 2611), ('say', 2611), ('greek', 2606), ('describe', 2605), ('determine', 2604), ('aim', 2596), ('calculator', 2591), ('automatic', 2591), ('active', 2588), ('sort', 2588), ('contribution', 2586), ('london', 2581), ('situation', 2578), ('programme', 2578), ('request', 2574), ('square', 2568), ('static', 2566), ('nobel', 2560), ('district', 2554), ('compared', 2552), ('tube', 2552), ('longer', 2549), ('replaced', 2546), ('virus', 2546), ('2002', 2546), ('calculus', 2542), ('phenomenon', 2542), ('faster', 2540), ('lack', 2536), ('distinct', 2533), ('whole', 2526), ('took', 2525), ('actual', 2522), ('month', 2520), ('limit', 2520), ('paul', 2520), ('experiment', 2518), ('pdf', 2513), ('throughout', 2506), ('equipment', 2503), ('1980s', 2503), ('party', 2498), ('account', 2498), ('beginning', 2493), ('primarily', 2492), ('construct', 2492), ('represents', 2490), ('mellon', 2483), ('actually', 2477), ('increased', 2477), ('ranked', 2467), ('concerned', 2466), ('typical', 2460)]\n"
     ]
    }
   ],
   "source": [
    "#-----calculate K most frequent words (nouns)\n",
    "from collections import Counter\n",
    "words_to_count = (word for word in allDocs)#if nltk.pos_tag(word_tokenize(word))=='NN' or 'NNS' or 'NNP' or 'NNPS')\n",
    "c = Counter(words_to_count)\n",
    "k=c.most_common(1000)\n",
    "print(k)\n",
    "pickle.dump(k, open(\"/content/drive/My Drive/Colab Notebooks/SE-Req/Data/FrequentAll.p\",\"wb\"))\n",
    "with open(\"/content/drive/My Drive/Colab Notebooks/SE-Req/Data/FrequentAll.txt\", 'w' , encoding='utf-8') as f:\n",
    "  for m in k:\n",
    "    f.writelines(str(m))\n"
   ]
  },
  {
   "cell_type": "code",
   "execution_count": null,
   "metadata": {
    "colab": {},
    "colab_type": "code",
    "id": "vAfLeWRuh7Tw"
   },
   "outputs": [],
   "source": [
    "#------make a modified version of SC\n",
    "ss=[]\n",
    "listFrqFirst=[]\n",
    "listCS = pickle.load( open( \"/content/drive/My Drive/Colab Notebooks/SE-Req/Data/List of lists/CS.p\", \"rb\" ) )\n",
    "listFrq =  pickle.load( open( \"/content/drive/My Drive/Colab Notebooks/SE-Req/Data/Frequent.p\", \"rb\" ) )\n",
    "for e in listFrq:\n",
    "  listFrqFirst.append(e[0])\n",
    "for  i in range(len(listCS)):\n",
    "  for j in range(len(listCS[i])):\n",
    "    if listCS[i][j] in listFrqFirst:\n",
    "      #ss.append(listCS[i][j])\n",
    "      listCS[i][j]='_'+listCS[i][j]\n",
    "pickle.dump(listCS, open(\"/content/drive/My Drive/Colab Notebooks/SE-Req/Data/Modified CS/_CS.p\",\"wb\"))"
   ]
  },
  {
   "cell_type": "code",
   "execution_count": null,
   "metadata": {
    "colab": {
     "base_uri": "https://localhost:8080/",
     "height": 54
    },
    "colab_type": "code",
    "executionInfo": {
     "elapsed": 3185153,
     "status": "ok",
     "timestamp": 1592943459143,
     "user": {
      "displayName": "Saeid Masir",
      "photoUrl": "https://lh3.googleusercontent.com/a-/AOh14GjPAAuY37EJoBVKlVDRiCx3OmWa7n4MRX_qgUZ2rw=s64",
      "userId": "01367108648350542700"
     },
     "user_tz": -270
    },
    "id": "uZF7YSipixlh",
    "outputId": "bba2d084-0159-459c-c404-e0ed1f365888"
   },
   "outputs": [
    {
     "name": "stdout",
     "output_type": "stream",
     "text": [
      "[('_computer', 122085), ('_system', 82906), ('_science', 79461), ('_also', 61717), ('_university', 59859), ('_data', 57104), ('_language', 54600), ('_used', 52441), ('_program', 49044), ('_first', 45403), ('_may', 38196), ('_software', 37174), ('_information', 35738), ('_time', 35480), ('_engineering', 35282), ('_programming', 34626), ('_use', 33409), ('_study', 33280), ('_function', 32861), ('_number', 32564), ('_state', 32441), ('_type', 32093), ('_example', 31875), ('_research', 31280), ('_new', 30359), ('_machine', 29491), ('_many', 29063), ('_technology', 28996), ('_problem', 28371), ('_theory', 27416), ('_\\\\displaystyle', 27012), ('_algorithm', 26906), ('_degree', 26124), ('_student', 25651), ('_set', 25252), ('_computing', 24827), ('_process', 24739), ('_design', 24648), ('_using', 24427), ('_year', 24151), ('_memory', 24000), ('_value', 23674), ('_method', 23651), ('_application', 23446), ('_code', 23436), ('_school', 23320), ('_model', 23259), ('_field', 23025), ('_network', 22481), ('_called', 22023), ('_object', 21458), ('_work', 21421), ('_development', 20602), ('_often', 19720), ('_would', 19619), ('_term', 19519), ('_different', 19113), ('_known', 18773), ('_list', 18526), ('_user', 18263), ('_class', 18189), ('_world', 18181), ('_operation', 17527), ('_reference', 17304), ('_structure', 17006), ('_variable', 16807), ('_history', 16781), ('_case', 16471), ('_part', 16461), ('_including', 16228), ('_device', 16176), ('_form', 16117), ('_human', 16021), ('_include', 15908), ('_education', 15874), ('_based', 15829), ('_american', 15680), ('_college', 15678), ('_social', 15368), ('_however', 15365), ('_since', 15317), ('_instruction', 15257), ('_mathematics', 15028), ('_group', 14925), ('_see', 14785), ('_learning', 14510), ('_name', 14431), ('_analysis', 14327), ('_could', 14311), ('_woman', 14249), ('_national', 14071), ('_support', 13888), ('_area', 13856), ('_like', 13791), ('_institute', 13740), ('_well', 13641), ('_way', 13638), ('_early', 13633), ('_level', 13539), ('_element', 13093), ('_common', 13086), ('_service', 13029), ('_result', 13021), ('_control', 13013), ('_general', 12959), ('_file', 12945), ('_mathematical', 12919), ('_developed', 12769), ('_logic', 12748), ('_space', 12530), ('_architecture', 12524), ('_management', 12521), ('_another', 12443), ('_international', 12434), ('_standard', 12419), ('_member', 12373), ('_within', 12349), ('_order', 12300), ('_project', 12292), ('_united', 12251), ('_several', 12090), ('_later', 12010), ('_access', 12007), ('_made', 11917), ('_digital', 11811), ('_computational', 11722), ('_scientific', 11658), ('_make', 11626), ('_master', 11512), ('_implementation', 11501), ('_computation', 11434), ('_link', 11348), ('_department', 11269), ('_point', 11247), ('_given', 11215), ('_modern', 11118), ('_company', 11076), ('_concept', 11074), ('_business', 11028), ('_library', 10997), ('_operating', 10967), ('_usually', 10936), ('_bachelor', 10916), ('_communication', 10873), ('_law', 10862), ('_high', 10524), ('_even', 10517), ('_people', 10506), ('_hardware', 10342), ('_version', 10288), ('_following', 10268), ('_resource', 10223), ('_became', 10192), ('_possible', 10188), ('_public', 10181), ('_professor', 10138), ('_input', 10135), ('_journal', 10121), ('_large', 10107), ('_intelligence', 10081), ('_need', 10057), ('_game', 10003), ('_academic', 9983), ('_course', 9972), ('_node', 9969), ('_feature', 9911), ('_source', 9880), ('_interface', 9810), ('_must', 9799), ('_various', 9745), ('_john', 9695), ('_processing', 9684), ('_change', 9684), ('_word', 9644), ('_array', 9625), ('_art', 9590), ('_tree', 9433), ('_power', 9387), ('_applied', 9338), ('_ibm', 9337), ('_unit', 9292), ('_natural', 9282), ('_task', 9183), ('_approach', 9181), ('_without', 9175), ('_external', 9148), ('_single', 9121), ('_storage', 9047), ('_knowledge', 9029), ('_society', 9027), ('_mean', 9026), ('_typically', 8985), ('_available', 8934), ('_technique', 8872), ('_take', 8814), ('_formal', 8777), ('_security', 8776), ('_character', 8716), ('_web', 8710), ('_film', 8682), ('_defined', 8675), ('_component', 8648), ('_center', 8643), ('_engineer', 8616), ('_paper', 8598), ('_multiple', 8586), ('_book', 8574), ('_second', 8566), ('_environment', 8556), ('_although', 8555), ('_isbn', 8544), ('_similar', 8533), ('_organization', 8526), ('_award', 8500), ('_key', 8494), ('_provide', 8474), ('_scientist', 8446), ('_considered', 8435), ('_designed', 8431), ('_definition', 8404), ('_medium', 8387), ('_internet', 8375), ('_much', 8334), ('_image', 8303), ('_open', 8210), ('_main', 8188), ('_life', 8166), ('_campus', 8157), ('_found', 8137), ('_artificial', 8134), ('_string', 8119), ('_property', 8085), ('_database', 8083), ('_specific', 8082), ('_processor', 8020), ('_conference', 8002), ('_related', 7995), ('_particular', 7994), ('_century', 7967), ('_physical', 7959), ('_address', 7936), ('_message', 7863), ('_performance', 7854), ('_sequence', 7839), ('_solution', 7827), ('_building', 7804), ('_compiler', 7773), ('_series', 7752), ('_run', 7718), ('_complex', 7709), ('_discipline', 7707), ('_major', 7705), ('_basic', 7688), ('_search', 7649), ('_rule', 7648), ('_written', 7630), ('_circuit', 7625), ('_expression', 7614), ('_individual', 7566), ('_among', 7557), ('_product', 7542), ('_output', 7540), ('_line', 7512), ('_effect', 7510), ('_government', 7488), ('_thus', 7485), ('_electronic', 7460), ('_pattern', 7460), ('_quantum', 7401), ('_faculty', 7380), ('_graphic', 7373), ('_city', 7358), ('_size', 7351), ('_professional', 7349), ('_physic', 7270), ('_call', 7268), ('_president', 7236), ('_important', 7179), ('_tool', 7176), ('_generally', 7150), ('_country', 7120), ('_either', 7112), ('_online', 7105), ('_every', 7055), ('_complexity', 7050), ('_theoretical', 7048), ('_end', 7039), ('_test', 7035), ('_turing', 7025), ('_programmer', 7016), ('_created', 6992), ('_higher', 6973), ('_due', 6955), ('_million', 6952), ('_published', 6946), ('_binary', 6944), ('_table', 6929), ('_required', 6904), ('_u.s.', 6897), ('_still', 6872), ('_bit', 6851), ('_original', 6836), ('_branch', 6806), ('_collection', 6781), ('_practice', 6770), ('_working', 6748), ('_former', 6743), ('_rather', 6741), ('_according', 6728), ('_philosophy', 6647), ('_right', 6637), ('_instead', 6625), ('_issue', 6595), ('_instance', 6593), ('_others', 6590), ('_event', 6553), ('_small', 6515), ('_distributed', 6499), ('_current', 6493), ('_window', 6487), ('_offer', 6466), ('_idea', 6413), ('_become', 6401), ('_pointer', 6401), ('_association', 6393), ('_error', 6390), ('_war', 6390), ('_text', 6385), ('_foundation', 6342), ('_team', 6325), ('_graduate', 6266), ('_sometimes', 6266), ('_protocol', 6231), ('_allow', 6215), ('_page', 6169), ('_special', 6162), ('_includes', 6158), ('_record', 6136), ('_allows', 6085), ('_free', 6077), ('_addition', 6058), ('_researcher', 6056), ('_introduced', 6051), ('_graph', 6022), ('_york', 6003), ('_simple', 5999), ('_mechanical', 5972), ('_built', 5972), ('_perform', 5970), ('_integrated', 5964), ('_abstract', 5958), ('_range', 5924), ('_dynamic', 5911), ('_block', 5908), ('_action', 5905), ('_around', 5893), ('_medical', 5885), ('_place', 5883), ('_engine', 5867), ('_best', 5846), ('_return', 5844), ('_principle', 5839), ('_certain', 5834), ('_focus', 5803), ('_ontology', 5798), ('_cpu', 5796), ('_role', 5778), ('_algebra', 5768), ('_child', 5766), ('_making', 5751), ('_server', 5743), ('_statement', 5739), ('_community', 5702), ('_domain', 5691), ('_local', 5689), ('_note', 5683), ('_location', 5679), ('_technical', 5677), ('_global', 5635), ('_behavior', 5635), ('_health', 5634), ('_java', 5631), ('_provides', 5629), ('_create', 5611), ('_store', 5606), ('_author', 5599), ('_representation', 5582), ('_began', 5581), ('_personal', 5559), ('_subject', 5534), ('_interaction', 5532), ('_video', 5510), ('_transistor', 5497), ('_article', 5492), ('_described', 5491), ('_born', 5485), ('_integer', 5476), ('_report', 5467), ('_help', 5457), ('_parameter', 5444), ('_next', 5443), ('_industry', 5442), ('_institution', 5434), ('_stored', 5412), ('_complete', 5370), ('_purpose', 5352), ('_david', 5327), ('_position', 5313), ('_material', 5293), ('_context', 5281), ('_british', 5273), ('_boolean', 5267), ('_meaning', 5259), ('_day', 5258), ('_family', 5247), ('_parallel', 5234), ('_activity', 5228), ('_abstraction', 5220), ('_included', 5212), ('_led', 5197), ('_electrical', 5184), ('_home', 5170), ('_might', 5169), ('_long', 5165), ('_argument', 5165), ('_relationship', 5139), ('_prize', 5130), ('_board', 5126), ('_cost', 5122), ('_established', 5113), ('_per', 5111), ('_commonly', 5109), ('_whether', 5108), ('_show', 5107), ('_condition', 5105), ('_via', 5101), ('_body', 5070), ('_named', 5069), ('_press', 5063), ('_google', 5054), ('_content', 5050), ('_operator', 5048), ('_acm', 4998), ('_training', 4995), ('_symbol', 4992), ('_functional', 4963), ('_question', 4940), ('_provided', 4938), ('_released', 4926), ('_though', 4925), ('_said', 4920), ('_read', 4886), ('_least', 4872), ('_step', 4864), ('_index', 4863), ('_decision', 4862), ('_significant', 4860), ('_act', 4857), ('_goal', 4854), ('_implemented', 4853), ('_format', 4836), ('_description', 4832), ('_scope', 4827), ('_real', 4825), ('_rate', 4819), ('_english', 4784), ('_virtual', 4773), ('_force', 4768), ('_testing', 4767), ('_together', 4754), ('_true', 4742), ('_module', 4740), ('_undergraduate', 4738), ('_execution', 4722), ('_able', 4720), ('_command', 4718), ('_produce', 4715), ('_laboratory', 4711), ('_requires', 4675), ('_cause', 4672), ('_relation', 4641), ('_doctor', 4640), ('_director', 4636), ('_back', 4624), ('_person', 4619), ('_signal', 4618), ('_directly', 4614), ('_late', 4611), ('_nature', 4608), ('_procedure', 4600), ('_stack', 4585), ('_give', 4576), ('_therefore', 4565), ('_india', 4560), ('_central', 4545), ('_require', 4534), ('_political', 4520), ('_amount', 4516), ('_ability', 4511), ('_requirement', 4495), ('_card', 4485), ('_find', 4482), ('_policy', 4474), ('_job', 4467), ('_mark', 4460), ('_south', 4458), ('_period', 4452), ('_hash', 4451), ('_base', 4449), ('_associated', 4434), ('_academy', 4430), ('_medicine', 4427), ('_factor', 4409), ('_microsoft', 4408), ('_robert', 4399), ('_top', 4397), ('_popular', 4396), ('_biology', 4394), ('_along', 4394), ('_received', 4382), ('_increase', 4368), ('_done', 4366), ('_c++', 4352), ('_limited', 4343), ('_additional', 4343), ('_market', 4341), ('_view', 4339), ('_kind', 4319), ('_fundamental', 4316), ('_aspect', 4304), ('_referred', 4295), ('_awarded', 4289), ('_register', 4285), ('_framework', 4280), ('_last', 4275), ('_advanced', 4267), ('_specification', 4262), ('_especially', 4260), ('_publication', 4258), ('_interest', 4252), ('_wide', 4249), ('_simulation', 4249), ('_needed', 4216), ('_separate', 4212), ('_lead', 4211), ('_north', 4201), ('_proposed', 4185), ('_core', 4185), ('_office', 4178), ('_apple', 4169), ('_mathematician', 4166), ('_indian', 4164), ('_equivalent', 4156), ('_music', 4156), ('_fact', 4153), ('_reading', 4151), ('_mechanism', 4149), ('_equation', 4144), ('_platform', 4140), ('_section', 4135), ('_statistic', 4133), ('_hall', 4132), ('_2011', 4127), ('_logical', 4114), ('_difference', 4112), ('_disk', 4097), ('_chemistry', 4096), ('_left', 4092), ('_total', 4091), ('_division', 4077), ('_2008', 4066), ('_age', 4063), ('_across', 4042), ('_object-oriented', 4042), ('_january', 4030), ('_practical', 4023), ('_running', 4020), ('_2010', 4017), ('_june', 4005), ('_always', 4002), ('_linear', 3992), ('_paradigm', 3990), ('_lab', 3989), ('_represent', 3984), ('_contains', 3978), ('_semantics', 3973), ('_website', 3973), ('_layer', 3971), ('_2012', 3954), ('_economics', 3947), ('_variety', 3933), ('_simply', 3926), ('_house', 3925), ('_april', 3922), ('_good', 3921), ('_speed', 3915), (\"_n't\", 3913), ('_2015', 3906), ('_educational', 3893), ('_chip', 3890), ('_present', 3887), ('_private', 3884), ('_2014', 3880), ('_quality', 3874), ('_player', 3870), ('_2016', 3863), ('_cell', 3861), ('_review', 3854), ('_kernel', 3852), ('_2013', 3849), ('_march', 3849), ('_experience', 3841), ('_ieee', 3837), ('_understanding', 3829), ('_whose', 3822), ('_future', 3815), ('_thread', 3814), ('_flow', 3809), ('_etc', 3801), ('_vector', 3788), ('_production', 3778), ('_effort', 3774), ('_document', 3774), ('_founded', 3765), ('_useful', 3762), ('_october', 3761), ('_full', 3760), ('_european', 3755), ('_mit', 3750), ('_centre', 3744), ('_upon', 3744), ('_third', 3742), ('_union', 3738), ('_2007', 3736), ('_mobile', 3730), ('_september', 3729), ('_finite', 3721), ('_energy', 3721), ('_william', 3717), ('_site', 3715), ('_drive', 3715), ('_basis', 3698), ('_cognitive', 3696), ('_python', 3689), ('_facility', 3678), ('_region', 3678), ('_lisp', 3672), ('_military', 3667), ('_thing', 3666), ('_display', 3665), ('_arithmetic', 3662), ('_independent', 3657), ('_started', 3653), ('_implement', 3650), ('_construction', 3633), ('_2009', 3632), ('_official', 3630), ('_length', 3629), ('_response', 3627), ('_widely', 3622), ('_2006', 3617), ('_psychology', 3607), ('_represented', 3605), ('_contain', 3601), ('_efficient', 3598), ('_constant', 3598), ('_syntax', 3595), ('_calculation', 3591), ('_traditional', 3577), ('_map', 3575), ('_build', 3569), ('_2017', 3569), ('_reason', 3556), ('_industrial', 3555), ('_visual', 3549), ('_move', 3548), ('_gate', 3547), ('_leading', 3541), ('_leader', 3538), ('_german', 3531), ('_attack', 3526), ('_category', 3523), ('_seen', 3516), ('_come', 3512), ('_writing', 3511), ('_earth', 3509), ('_difficult', 3506), ('_attempt', 3501), ('_develop', 3496), ('_held', 3494), ('_2018', 3494), ('_topic', 3493), ('_extension', 3487), ('_alternative', 3482), ('_client', 3482), ('_california', 3481), ('_developer', 3480), ('_modeling', 3479), ('_water', 3479), ('_initial', 3477), ('_august', 3472), ('_final', 3465), ('_allowed', 3459), ('_population', 3441), ('_primary', 3439), ('_release', 3433), ('_november', 3428), ('_commercial', 3427), ('_share', 3426), ('_added', 3419), ('_2005', 3418), ('_failure', 3415), ('_stanford', 3409), ('_vision', 3404), ('_title', 3404), ('_produced', 3388), ('_add', 3385), ('_side', 3381), ('_start', 3381), ('_invented', 3380), ('_today', 3366), ('_internal', 3366), ('_peter', 3363), ('_distribution', 3362), ('_style', 3361), ('_get', 3354), ('_court', 3345), ('_scheme', 3344), ('_macro', 3334), ('_2019', 3325), ('_proof', 3321), ('_refers', 3319), ('_acid', 3310), ('_byte', 3303), ('_theorem', 3300), ('_automaton', 3297), ('_phase', 3295), ('_entity', 3294), ('_deal', 3292), ('_item', 3289), ('_july', 3284), ('_better', 3283), ('_write', 3283), ('_recognition', 3280), ('_intended', 3276), ('_female', 3276), ('_zero', 3275), ('_short', 3274), ('_council', 3274), ('_solve', 3269), ('_specialized', 3237), ('_december', 3233), ('_followed', 3232), ('_february', 3228), ('_george', 3213), ('_environmental', 3209), ('_consists', 3207), ('_sense', 3207), ('_matrix', 3207), ('_announced', 3201), ('_random', 3200), ('_light', 3198), ('_robot', 3198), ('_networking', 3187), ('_numerical', 3177), ('_almost', 3172), ('_great', 3170), ('_low', 3170), ('_statistical', 3167), ('_performed', 3154), ('_surface', 3152), ('_usage', 3146), ('_french', 3145), ('_optimization', 3145), ('_volume', 3145), ('_outside', 3144), ('_taken', 3140), ('_located', 3138), ('_offered', 3137), ('_measure', 3135), ('_recursive', 3134), ('_particularly', 3126), ('_depending', 3125), ('_teaching', 3125), ('_involved', 3123), ('_cloud', 3114), ('_largest', 3112), ('_thought', 3109), ('_james', 3107), ('_plan', 3106), ('_hand', 3104), ('_founder', 3104), ('_root', 3089), ('_connected', 3086), ('_assembly', 3083), ('_chemical', 3082), ('_phd', 3082), ('_career', 3080), ('_charles', 3079), ('_letter', 3079), ('_connection', 3077), ('_lower', 3069), ('_economic', 3067), ('_introduction', 3065), ('_probability', 3064), ('_involves', 3060), ('_air', 3053), ('_potential', 3039), ('_generation', 3037), ('_cycle', 3035), ('_average', 3032), ('_equal', 3030), ('_accepted', 3027), ('_originally', 3021), ('_hold', 3016), ('_cambridge', 3015), ('_wrote', 3013), ('_administration', 3013), ('_geometry', 3012), ('_never', 3012), ('_solving', 3008), ('_agent', 3008), ('_recursion', 3007), ('_mind', 3001), ('_contrast', 3000), ('_2004', 2998), ('_scale', 2997), ('_neural', 2992), ('_notable', 2990), ('_unix', 2986), ('_animal', 2981), ('_larger', 2979), ('_biological', 2977), ('_direct', 2977), ('_2000', 2966), ('_chief', 2966), ('_mode', 2962), ('_story', 2961), ('_necessary', 2960), ('_stage', 2952), ('_ranking', 2952), ('_men', 2942), ('_path', 2933), ('_movement', 2933), ('_america', 2933), ('_expert', 2923), ('_greater', 2915), ('_transaction', 2910), ('_edge', 2910), ('_exist', 2907), ('_head', 2903), ('_currently', 2900), ('_providing', 2899), ('_entire', 2889), ('_log', 2887), ('_brain', 2886), ('_analog', 2881), ('_richard', 2876), ('_monitor', 2870), ('_target', 2867), ('_fixed', 2865), ('_shared', 2863), ('_coding', 2861), ('_notation', 2859), ('_shown', 2854), ('_play', 2851), ('_linux', 2850), ('_define', 2849), ('_fellow', 2849), ('_recent', 2846), ('_canada', 2846), ('_critical', 2842), ('_actor', 2842), ('_distance', 2841), ('_capability', 2837), ('_existing', 2828), ('_planning', 2827), ('_europe', 2824), ('_2001', 2819), ('_\\\\frac', 2817), ('_michael', 2815), ('_worked', 2812), ('_ph.d.', 2811), ('_television', 2809), ('_corporation', 2806), ('_translation', 2803), ('_1970s', 2801), ('_combination', 2799), ('_eventually', 2795), ('_creation', 2795), ('_von', 2795), ('_culture', 2795), ('_hard', 2793), ('_cryptography', 2789), ('_strong', 2788), ('_previous', 2782), ('_civil', 2775), ('_creating', 2769), ('_2003', 2765), ('_entry', 2764), ('_integration', 2763), ('_allowing', 2752), ('_smaller', 2749), ('_impact', 2746), ('_writer', 2744), ('_choice', 2742), ('_electronics', 2740), ('_black', 2736), ('_risk', 2736), ('_discrete', 2735), ('_advantage', 2734), ('_i.e', 2732), ('_lodge', 2724), ('_cluster', 2723), ('_understand', 2721), ('_copy', 2719), ('_food', 2717), ('_skill', 2715), ('_challenge', 2713), ('_already', 2711), ('_came', 2709), ('_secondary', 2708), ('_illinois', 2708), ('_loop', 2707), ('_detail', 2703), ('_intel', 2698), ('_regular', 2694), ('_identifier', 2694), ('_supported', 2691), ('_channel', 2675), ('_100', 2673), ('_committee', 2672), ('_developing', 2669), ('_old', 2668), ('_carnegie', 2664), ('_teacher', 2663), ('_army', 2653), ('_comparison', 2651), ('_starting', 2640), ('_concern', 2639), ('_completed', 2637), ('_strategy', 2636), ('_radio', 2634), ('_evaluation', 2633), ('_financial', 2631), ('_garbage', 2624), ('_parent', 2617), ('_matter', 2611), ('_say', 2611), ('_greek', 2606), ('_describe', 2605), ('_determine', 2604), ('_aim', 2596), ('_calculator', 2591), ('_automatic', 2591), ('_active', 2588), ('_sort', 2588), ('_contribution', 2586), ('_london', 2581), ('_situation', 2578), ('_programme', 2578), ('_request', 2574), ('_square', 2568), ('_static', 2566), ('_nobel', 2560), ('_district', 2554), ('_compared', 2552), ('_tube', 2552), ('_longer', 2549), ('_replaced', 2546), ('_virus', 2546), ('_2002', 2546), ('_calculus', 2542), ('_phenomenon', 2542), ('_faster', 2540), ('_lack', 2536), ('_distinct', 2533), ('_whole', 2526), ('_took', 2525), ('_month', 2522), ('_actual', 2522), ('_limit', 2520), ('_paul', 2520), ('_experiment', 2518), ('_pdf', 2513), ('_throughout', 2506), ('_equipment', 2503), ('_1980s', 2503), ('_party', 2498), ('_account', 2498), ('_beginning', 2493), ('_primarily', 2492), ('_construct', 2492), ('_represents', 2490), ('_mellon', 2483), ('_actually', 2477), ('_increased', 2477), ('_ranked', 2467), ('_concerned', 2466), ('_typical', 2460)]\n"
     ]
    }
   ],
   "source": [
    "#---- check if modified list has been made correctly\n",
    "allDocs2=[]\n",
    "for  i in range(len(listCS)):\n",
    "  for j in listCS[i]:\n",
    "   allDocs2.append(dc(j))\n",
    "len(allDocs2)\n",
    "from collections import Counter\n",
    "words_to_count = (word for word in allDocs2 if nltk.pos_tag(word_tokenize(word))=='NN' or 'NNS' or 'NNP' or 'NNPS')\n",
    "c = Counter(words_to_count)\n",
    "k=c.most_common(1000)\n",
    "print(k)"
   ]
  },
  {
   "cell_type": "code",
   "execution_count": null,
   "metadata": {
    "colab": {
     "base_uri": "https://localhost:8080/",
     "height": 34
    },
    "colab_type": "code",
    "executionInfo": {
     "elapsed": 24235,
     "status": "ok",
     "timestamp": 1593021578958,
     "user": {
      "displayName": "Saeid Masir",
      "photoUrl": "https://lh3.googleusercontent.com/a-/AOh14GjPAAuY37EJoBVKlVDRiCx3OmWa7n4MRX_qgUZ2rw=s64",
      "userId": "01367108648350542700"
     },
     "user_tz": -270
    },
    "id": "fzKPy-aZEUsd",
    "outputId": "f2087e16-db5f-4166-de83-c969090963c1"
   },
   "outputs": [
    {
     "name": "stdout",
     "output_type": "stream",
     "text": [
      "9541 9681 19222\n"
     ]
    }
   ],
   "source": [
    "#------ Merge every lists of every topics with CS as feed for w2v\n",
    "list_CS = pickle.load( open( \"/content/drive/My Drive/Colab Notebooks/SE-Req/Data/Modified CS/_CS.p\", \"rb\" ) )\n",
    "listOther = pickle.load( open( \"/content/drive/My Drive/Colab Notebooks/SE-Req/Data/List of lists/At.p\", \"rb\" ) )\n",
    "\n",
    "mergedList = list_CS + listOther\n",
    "\n",
    "pickle.dump(mergedList, open(\"/content/drive/My Drive/Colab Notebooks/SE-Req/Data/w2v Feed/At_CS.p\",\"wb\"))\n",
    "print(len(list_CS), len(listOther), len(mergedList))"
   ]
  },
  {
   "cell_type": "code",
   "execution_count": null,
   "metadata": {
    "colab": {},
    "colab_type": "code",
    "id": "A86XIwzqRdct"
   },
   "outputs": [],
   "source": [
    "#-----save result in xlsx format\n",
    "vagueDic = pickle.load( open( \"/content/drive/My Drive/Colab Notebooks/SE-Req/Data/Result/avrage.p\", \"rb\" ) )\n",
    "\n",
    "import xlsxwriter \n",
    "workbook = xlsxwriter.Workbook('/content/drive/My Drive/Colab Notebooks/SE-Req/Data/AutoDic.xlsx') \n",
    "worksheet = workbook.add_worksheet(\"AutoDic\") \n",
    "row = 0\n",
    "col = 0\n",
    "for vagueWord, score in (vagueDic): \n",
    "    worksheet.write(row, col, vagueWord) \n",
    "    worksheet.write(row, col + 1, score) \n",
    "    row += 1\n",
    "  \n",
    "workbook.close() \n"
   ]
  },
  {
   "cell_type": "code",
   "execution_count": null,
   "metadata": {
    "colab": {
     "base_uri": "https://localhost:8080/",
     "height": 105
    },
    "colab_type": "code",
    "executionInfo": {
     "elapsed": 6528,
     "status": "ok",
     "timestamp": 1593614318137,
     "user": {
      "displayName": "Saeid Masir",
      "photoUrl": "https://lh3.googleusercontent.com/a-/AOh14GjPAAuY37EJoBVKlVDRiCx3OmWa7n4MRX_qgUZ2rw=s64",
      "userId": "01367108648350542700"
     },
     "user_tz": -270
    },
    "id": "kkQiNsVpwjcM",
    "outputId": "f2843845-e26b-4da4-df6e-6f26687fd0d2"
   },
   "outputs": [
    {
     "name": "stdout",
     "output_type": "stream",
     "text": [
      "Collecting XlsxWriter\n",
      "\u001b[?25l  Downloading https://files.pythonhosted.org/packages/c8/a2/e5f28b67b7d883c9a6585c0ef32b4bb002bff0292b3008f3d6d3fc7eee59/XlsxWriter-1.2.9-py2.py3-none-any.whl (141kB)\n",
      "\u001b[K     |████████████████████████████████| 143kB 8.2MB/s eta 0:00:01\n",
      "\u001b[?25hInstalling collected packages: XlsxWriter\n",
      "Successfully installed XlsxWriter-1.2.9\n"
     ]
    }
   ],
   "source": [
    "! pip install XlsxWriter\n",
    "\n"
   ]
  },
  {
   "cell_type": "code",
   "execution_count": 16,
   "metadata": {
    "colab": {},
    "colab_type": "code",
    "executionInfo": {
     "elapsed": 1000,
     "status": "ok",
     "timestamp": 1595167650934,
     "user": {
      "displayName": "Saeid Masir",
      "photoUrl": "https://lh3.googleusercontent.com/a-/AOh14GjPAAuY37EJoBVKlVDRiCx3OmWa7n4MRX_qgUZ2rw=s64",
      "userId": "01367108648350542700"
     },
     "user_tz": -270
    },
    "id": "GHipW5TCycUu"
   },
   "outputs": [],
   "source": []
  },
  {
   "cell_type": "code",
   "execution_count": null,
   "metadata": {
    "colab": {},
    "colab_type": "code",
    "id": "wPFQHtlvPtAr"
   },
   "outputs": [],
   "source": []
  }
 ],
 "metadata": {
  "colab": {
   "authorship_tag": "ABX9TyNdNAPI/wOWsEcPoKW7nqkE",
   "collapsed_sections": [],
   "name": "PerProcessing-v2.ipynb",
   "provenance": []
  },
  "kernelspec": {
   "display_name": "Python 3 (ipykernel)",
   "language": "python",
   "name": "python3"
  },
  "language_info": {
   "codemirror_mode": {
    "name": "ipython",
    "version": 3
   },
   "file_extension": ".py",
   "mimetype": "text/x-python",
   "name": "python",
   "nbconvert_exporter": "python",
   "pygments_lexer": "ipython3",
   "version": "3.8.8"
  }
 },
 "nbformat": 4,
 "nbformat_minor": 4
}
